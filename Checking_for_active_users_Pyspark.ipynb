{
  "nbformat": 4,
  "nbformat_minor": 0,
  "metadata": {
    "colab": {
      "name": "561_BigData_Asst3_Submission.ipynb",
      "provenance": [],
      "collapsed_sections": []
    },
    "kernelspec": {
      "name": "python3",
      "display_name": "Python 3"
    }
  },
  "cells": [
    {
      "cell_type": "markdown",
      "metadata": {
        "id": "7-ueYWqFh1eR",
        "colab_type": "text"
      },
      "source": [
        "IDS 561 - Assignment 3\n",
        "\n",
        "Group Submission By:\n",
        "Priyanka Shah\n",
        "Rini Thomas\n",
        "Vanshdeep Singh"
      ]
    },
    {
      "cell_type": "code",
      "metadata": {
        "id": "ihIjV-UEiNX5",
        "colab_type": "code",
        "colab": {}
      },
      "source": [
        "# Mounting Gdrive"
      ],
      "execution_count": 0,
      "outputs": []
    },
    {
      "cell_type": "code",
      "metadata": {
        "id": "RyfJD5rTCZ6f",
        "colab_type": "code",
        "outputId": "17282538-071d-49fb-e50b-22a6563b823d",
        "colab": {
          "base_uri": "https://localhost:8080/",
          "height": 34
        }
      },
      "source": [
        "from google.colab import drive\n",
        "drive.mount('/content/drive')"
      ],
      "execution_count": 255,
      "outputs": [
        {
          "output_type": "stream",
          "text": [
            "Drive already mounted at /content/drive; to attempt to forcibly remount, call drive.mount(\"/content/drive\", force_remount=True).\n"
          ],
          "name": "stdout"
        }
      ]
    },
    {
      "cell_type": "code",
      "metadata": {
        "id": "1--xrzkWI_eL",
        "colab_type": "code",
        "colab": {}
      },
      "source": [
        "!apt-get install openjdk-8-jdk-headless -qq > /dev/null"
      ],
      "execution_count": 0,
      "outputs": []
    },
    {
      "cell_type": "markdown",
      "metadata": {
        "id": "XICKUBZcl1Gv",
        "colab_type": "text"
      },
      "source": [
        "# Step 2. Install Spark"
      ]
    },
    {
      "cell_type": "markdown",
      "metadata": {
        "id": "WI7B08YtM8hJ",
        "colab_type": "text"
      },
      "source": [
        "# Get Spark installer (check the path on spark.apache.org)"
      ]
    },
    {
      "cell_type": "code",
      "metadata": {
        "id": "f0p71xG-Nk62",
        "colab_type": "code",
        "colab": {}
      },
      "source": [
        "!wget -q http://apache.mirrors.pair.com/spark/spark-2.4.5/spark-2.4.5-bin-hadoop2.7.tgz"
      ],
      "execution_count": 0,
      "outputs": []
    },
    {
      "cell_type": "markdown",
      "metadata": {
        "colab_type": "text",
        "id": "-H_EWTAqD1TW"
      },
      "source": [
        "# Check if the file is copied"
      ]
    },
    {
      "cell_type": "code",
      "metadata": {
        "id": "fI5G-i0aoHDm",
        "colab_type": "code",
        "outputId": "3d79bb18-edb9-4450-84b6-4fa7eea26196",
        "colab": {
          "base_uri": "https://localhost:8080/",
          "height": 204
        }
      },
      "source": [
        "!df -h "
      ],
      "execution_count": 258,
      "outputs": [
        {
          "output_type": "stream",
          "text": [
            "Filesystem      Size  Used Avail Use% Mounted on\n",
            "overlay         108G   29G   74G  29% /\n",
            "tmpfs            64M     0   64M   0% /dev\n",
            "tmpfs           6.4G     0  6.4G   0% /sys/fs/cgroup\n",
            "tmpfs           6.4G   12K  6.4G   1% /var/colab\n",
            "/dev/sda1       114G   31G   84G  27% /etc/hosts\n",
            "shm             5.9G     0  5.9G   0% /dev/shm\n",
            "tmpfs           6.4G     0  6.4G   0% /proc/acpi\n",
            "tmpfs           6.4G     0  6.4G   0% /proc/scsi\n",
            "tmpfs           6.4G     0  6.4G   0% /sys/firmware\n",
            "drive           108G   38G   70G  36% /content/drive\n"
          ],
          "name": "stdout"
        }
      ]
    },
    {
      "cell_type": "code",
      "metadata": {
        "id": "znu1yfSPoesl",
        "colab_type": "code",
        "outputId": "529043a6-df73-46fe-8a4f-3d4482676e48",
        "colab": {
          "base_uri": "https://localhost:8080/",
          "height": 51
        }
      },
      "source": [
        "!rm "
      ],
      "execution_count": 259,
      "outputs": [
        {
          "output_type": "stream",
          "text": [
            "rm: missing operand\n",
            "Try 'rm --help' for more information.\n"
          ],
          "name": "stdout"
        }
      ]
    },
    {
      "cell_type": "code",
      "metadata": {
        "id": "GFdbi-ubN5P_",
        "colab_type": "code",
        "outputId": "4ac86692-fd8e-41b1-835e-7824328cb758",
        "colab": {
          "base_uri": "https://localhost:8080/",
          "height": 34
        }
      },
      "source": [
        "!ls"
      ],
      "execution_count": 260,
      "outputs": [
        {
          "output_type": "stream",
          "text": [
            "'My Drive'  'Shared drives'\n"
          ],
          "name": "stdout"
        }
      ]
    },
    {
      "cell_type": "markdown",
      "metadata": {
        "id": "ei9SqRpZOKpl",
        "colab_type": "text"
      },
      "source": [
        "# Untar the Spark installer"
      ]
    },
    {
      "cell_type": "code",
      "metadata": {
        "id": "rBT22YYrOOjh",
        "colab_type": "code",
        "outputId": "fc5ac328-c828-4bee-9f17-117b4ba9b7ef",
        "colab": {
          "base_uri": "https://localhost:8080/",
          "height": 51
        }
      },
      "source": [
        "!tar -xvf spark-2.4.5-bin-hadoop2.7.tgz"
      ],
      "execution_count": 261,
      "outputs": [
        {
          "output_type": "stream",
          "text": [
            "tar: spark-2.4.5-bin-hadoop2.7.tgz: Cannot open: No such file or directory\n",
            "tar: Error is not recoverable: exiting now\n"
          ],
          "name": "stdout"
        }
      ]
    },
    {
      "cell_type": "markdown",
      "metadata": {
        "id": "hUhib5htOkqN",
        "colab_type": "text"
      },
      "source": [
        "# Check the Spark folder after untar"
      ]
    },
    {
      "cell_type": "code",
      "metadata": {
        "id": "g6i_oyDFOqXG",
        "colab_type": "code",
        "outputId": "a7f743fe-da1c-4485-c073-91889d21a33b",
        "colab": {
          "base_uri": "https://localhost:8080/",
          "height": 34
        }
      },
      "source": [
        "!ls "
      ],
      "execution_count": 262,
      "outputs": [
        {
          "output_type": "stream",
          "text": [
            "'My Drive'  'Shared drives'\n"
          ],
          "name": "stdout"
        }
      ]
    },
    {
      "cell_type": "markdown",
      "metadata": {
        "id": "hTe7J0I-Ozyj",
        "colab_type": "text"
      },
      "source": [
        "# Install findspark - a python library to find Spark"
      ]
    },
    {
      "cell_type": "code",
      "metadata": {
        "id": "i5w5KMo3O8aW",
        "colab_type": "code",
        "colab": {}
      },
      "source": [
        "!pip install -q findspark"
      ],
      "execution_count": 0,
      "outputs": []
    },
    {
      "cell_type": "markdown",
      "metadata": {
        "id": "9ALuz9-YPHNW",
        "colab_type": "text"
      },
      "source": [
        "# Step 3. Set environment variables\n",
        "Set Java and Spark home based on the location where they are stored"
      ]
    },
    {
      "cell_type": "code",
      "metadata": {
        "id": "2P4gXyFyJpug",
        "colab_type": "code",
        "colab": {}
      },
      "source": [
        "import os\n",
        "os.environ[\"JAVA_HOME\"] = \"/usr/lib/jvm/java-8-openjdk-amd64\"\n",
        "os.environ[\"SPARK_HOME\"] = \"/content/spark-2.4.5-bin-hadoop2.7\""
      ],
      "execution_count": 0,
      "outputs": []
    },
    {
      "cell_type": "markdown",
      "metadata": {
        "id": "PswYpIzbQNaZ",
        "colab_type": "text"
      },
      "source": [
        "# Step 4. Creat a local Spark session"
      ]
    },
    {
      "cell_type": "code",
      "metadata": {
        "id": "_FY0mR4gKOla",
        "colab_type": "code",
        "colab": {}
      },
      "source": [
        "import findspark\n",
        "findspark.init()\n",
        "from pyspark.sql import SparkSession\n",
        "spark = SparkSession.builder.master(\"local[*]\").getOrCreate()"
      ],
      "execution_count": 0,
      "outputs": []
    },
    {
      "cell_type": "markdown",
      "metadata": {
        "id": "tzem4VWHEIjr",
        "colab_type": "text"
      },
      "source": [
        ""
      ]
    },
    {
      "cell_type": "code",
      "metadata": {
        "id": "yan3vyoWP8-Y",
        "colab_type": "code",
        "outputId": "e5c52579-e003-48aa-bb6a-1616ec3531ad",
        "colab": {
          "base_uri": "https://localhost:8080/",
          "height": 34
        }
      },
      "source": [
        "import pandas as pd\n",
        "import os\n",
        "\n",
        "## Setting the working Directory\n",
        "os.chdir(\"/content/drive/\")\n",
        "!ls"
      ],
      "execution_count": 266,
      "outputs": [
        {
          "output_type": "stream",
          "text": [
            "'My Drive'  'Shared drives'\n"
          ],
          "name": "stdout"
        }
      ]
    },
    {
      "cell_type": "code",
      "metadata": {
        "id": "q4Vf2CIJQxgx",
        "colab_type": "code",
        "outputId": "1592281f-c2a0-4334-9ba7-a18badc28eab",
        "colab": {
          "base_uri": "https://localhost:8080/",
          "height": 479
        }
      },
      "source": [
        "## Reading the csv File\n",
        "df = spark.read.csv(\"/content/drive/My Drive/Colab_Datasets/Amazon_Responded_Oct05.csv\",header = True)  \n",
        "df.show()                           "
      ],
      "execution_count": 267,
      "outputs": [
        {
          "output_type": "stream",
          "text": [
            "+--------------------+--------------------+----------------+-----------+-------------------+---------------------+--------------+-----------------+--------------+--------------------+-------------+-------------+--------------------+------------------+--------------------+--------------+--------------------+--------------+---------+-----------------------+-------------------------+-----------------------+-------------+---------+--------------------+\n",
            "|              id_str|    tweet_created_at|user_screen_name|user_id_str|user_statuses_count|user_favourites_count|user_protected|user_listed_count|user_following|    user_description|user_location|user_verified|user_followers_count|user_friends_count|     user_created_at|tweet_language|               text_|favorite_count|favorited|in_reply_to_screen_name|in_reply_to_status_id_str|in_reply_to_user_id_str|retweet_count|retweeted|                text|\n",
            "+--------------------+--------------------+----------------+-----------+-------------------+---------------------+--------------+-----------------+--------------+--------------------+-------------+-------------+--------------------+------------------+--------------------+--------------+--------------------+--------------+---------+-----------------------+-------------------------+-----------------------+-------------+---------+--------------------+\n",
            "|'793270689780203520'|Tue Nov 01 01:57:...|     SeanEPanjab|  143515471|              51287|                 4079|         False|               74|         False|Content marketer;...|   غریب الوطن|        False|                1503|               850|Thu May 13 17:43:...|            en|@AmazonHelp Can y...|             0|    False|             AmazonHelp|                     null|               85741735|            0|    False|                null|\n",
            "|'793281386912354304'|Tue Nov 01 02:39:...|      AmazonHelp|   85741735|            2225450|                11366|         False|              796|         False|We answer Amazon ...|         null|         True|              149569|                53|Wed Oct 28 04:17:...|            en|@SeanEPanjab I'm ...|             0|    False|            SeanEPanjab|     7.932706897802035...|              143515471|            0|    False|                null|\n",
            "|'793501578766319616'|Tue Nov 01 17:14:...|     SeanEPanjab|  143515471|              51287|                 4079|         False|               74|         False|Content marketer;...|   غریب الوطن|        False|                1503|               850|Thu May 13 17:43:...|            en|@AmazonHelp It wa...|             0|    False|             AmazonHelp|     7.932813869123543...|               85741735|            0|    False|@AmazonHelp It wa...|\n",
            "|'793501657346682880'|Tue Nov 01 17:15:...|     SeanEPanjab|  143515471|              51287|                 4079|         False|               74|         False|Content marketer;...|   غریب الوطن|        False|                1503|               850|Thu May 13 17:43:...|            en|@AmazonHelp I am ...|             0|    False|             AmazonHelp|     7.932813869123543...|               85741735|            0|    False|                null|\n",
            "|'793502854459879424'|Tue Nov 01 17:19:...|      AmazonHelp|   85741735|            2225450|                11366|         False|              796|         False|We answer Amazon ...|         null|         True|              149569|                53|Wed Oct 28 04:17:...|            en|@SeanEPanjab Plea...|             0|    False|            SeanEPanjab|     7.935015787663196...|              143515471|            0|    False|@SeanEPanjab Plea...|\n",
            "|'793504235400884224'|Tue Nov 01 17:25:...|      AmazonHelp|   85741735|            2225450|                11366|         False|              796|         False|We answer Amazon ...|         null|         True|              149569|                53|Wed Oct 28 04:17:...|            en|@SeanEPanjab With...|             0|    False|            SeanEPanjab|     7.935016573466829...|              143515471|            0|    False|                null|\n",
            "|'793511847899070465'|Tue Nov 01 17:55:...|     SeanEPanjab|  143515471|              51287|                 4079|         False|               74|         False|Content marketer;...|   غریب الوطن|        False|                1503|               850|Thu May 13 17:43:...|            en|@AmazonHelp It wa...|             0|    False|             AmazonHelp|     7.935042354008842...|               85741735|            0|    False|                null|\n",
            "|'793511899279208449'|Tue Nov 01 17:55:...|     SeanEPanjab|  143515471|              51287|                 4079|         False|               74|         False|Content marketer;...|   غریب الوطن|        False|                1503|               850|Thu May 13 17:43:...|            en|@AmazonHelp if it...|             0|    False|             AmazonHelp|     7.935042354008842...|               85741735|            0|    False|                null|\n",
            "|'793513446633533440'|Tue Nov 01 18:02:...|      AmazonHelp|   85741735|            2225450|                11366|         False|              796|         False|We answer Amazon ...|         null|         True|              149569|                53|Wed Oct 28 04:17:...|            en|@SeanEPanjab I'm ...|             0|    False|            SeanEPanjab|     7.935118992792084...|              143515471|            0|    False|@SeanEPanjab I'm ...|\n",
            "|'793299404975247360'|Tue Nov 01 03:51:...|   aakashwangnoo|   71457972|                592|                  471|         False|               11|         False|Don't try to be G...|    New Delhi|        False|                 234|                57|Fri Sep 04 04:55:...|            en|@JeffBezos @amazo...|             0|    False|              JeffBezos|                     null|               15506669|            0|    False|                null|\n",
            "|'793301295255945216'|Tue Nov 01 03:59:...|      AmazonHelp|   85741735|            2225442|                11366|         False|              796|         False|We answer Amazon ...|         null|         True|              149568|                53|Wed Oct 28 04:17:...|            en|@aakashwangnoo Hi...|             0|    False|          aakashwangnoo|     7.932994049752474...|               71457972|            0|    False|                null|\n",
            "|'793407430344310785'|Tue Nov 01 11:00:...|   aakashwangnoo|   71457972|                592|                  471|         False|               11|         False|Don't try to be G...|    New Delhi|        False|                 234|                57|Fri Sep 04 04:55:...|            en|@AmazonHelp How m...|             0|    False|             AmazonHelp|     7.933012952559452...|               85741735|            0|    False|                null|\n",
            "|'793423313674571776'|Tue Nov 01 12:03:...|      AmazonHelp|   85741735|            2225442|                11366|         False|              796|         False|We answer Amazon ...|         null|         True|              149568|                53|Wed Oct 28 04:17:...|            en|@aakashwangnoo Hi...|             0|    False|          aakashwangnoo|     7.934074303443108...|               71457972|            0|    False|@aakashwangnoo Hi...|\n",
            "|'793423314333134850'|Tue Nov 01 12:03:...|      AmazonHelp|   85741735|            2225442|                11366|         False|              796|         False|We answer Amazon ...|         null|         True|              149568|                53|Wed Oct 28 04:17:...|            en|@aakashwangnoo Pl...|             0|    False|          aakashwangnoo|     7.934074303443108...|               71457972|            0|    False|                null|\n",
            "|'793467086869630977'|Tue Nov 01 14:57:...|   aakashwangnoo|   71457972|                592|                  471|         False|               11|         False|Don't try to be G...|    New Delhi|        False|                 234|                57|Fri Sep 04 04:55:...|            en|@AmazonHelp @amaz...|             0|    False|             AmazonHelp|     7.934233143331348...|               85741735|            0|    False|                null|\n",
            "|'793492430666498050'|Tue Nov 01 16:38:...|      AmazonHelp|   85741735|            2225442|                11366|         False|              796|         False|We answer Amazon ...|         null|         True|              149568|                53|Wed Oct 28 04:17:...|            en|@aakashwangnoo Hi...|             0|    False|          aakashwangnoo|     7.93467086869631e+17|               71457972|            0|    False|@aakashwangnoo Hi...|\n",
            "|'793535036213501952'|Tue Nov 01 19:27:...|   aakashwangnoo|   71457972|                592|                  471|         False|               11|         False|Don't try to be G...|    New Delhi|        False|                 234|                57|Fri Sep 04 04:55:...|            en|@AmazonHelp @amaz...|             0|    False|             AmazonHelp|     7.93492430666498e+17|               85741735|            0|    False|                null|\n",
            "|'793535221329113088'|Tue Nov 01 19:28:...|   aakashwangnoo|   71457972|                592|                  471|         False|               11|         False|Don't try to be G...|    New Delhi|        False|                 234|                57|Fri Sep 04 04:55:...|            en|@AmazonHelp @amaz...|             0|    False|          aakashwangnoo|     7.93535036213502e+17|               71457972|            0|    False|                null|\n",
            "|'793537840533471232'|Tue Nov 01 19:38:...|   aakashwangnoo|   71457972|                592|                  471|         False|               11|         False|Don't try to be G...|    New Delhi|        False|                 234|                57|Fri Sep 04 04:55:...|            en|@AmazonHelp @amaz...|             0|    False|             AmazonHelp|     7.93492430666498e+17|               85741735|            0|    False|@AmazonHelp @amaz...|\n",
            "|'793538125884645376'|Tue Nov 01 19:40:...|   aakashwangnoo|   71457972|                592|                  471|         False|               11|         False|Don't try to be G...|    New Delhi|        False|                 234|                57|Fri Sep 04 04:55:...|            en|@AmazonHelp @amaz...|             0|    False|          aakashwangnoo|     7.935378405334712...|               71457972|            0|    False|@AmazonHelp @amaz...|\n",
            "+--------------------+--------------------+----------------+-----------+-------------------+---------------------+--------------+-----------------+--------------+--------------------+-------------+-------------+--------------------+------------------+--------------------+--------------+--------------------+--------------+---------+-----------------------+-------------------------+-----------------------+-------------+---------+--------------------+\n",
            "only showing top 20 rows\n",
            "\n"
          ],
          "name": "stdout"
        }
      ]
    },
    {
      "cell_type": "code",
      "metadata": {
        "id": "vjG_oRk7sr1R",
        "colab_type": "code",
        "outputId": "04c42c11-a599-408d-a2d7-b85ebecb00f8",
        "colab": {
          "base_uri": "https://localhost:8080/",
          "height": 442
        }
      },
      "source": [
        "## Checking the columns in the dataset\n",
        "\n",
        "df.columns"
      ],
      "execution_count": 268,
      "outputs": [
        {
          "output_type": "execute_result",
          "data": {
            "text/plain": [
              "['id_str',\n",
              " 'tweet_created_at',\n",
              " 'user_screen_name',\n",
              " 'user_id_str',\n",
              " 'user_statuses_count',\n",
              " 'user_favourites_count',\n",
              " 'user_protected',\n",
              " 'user_listed_count',\n",
              " 'user_following',\n",
              " 'user_description',\n",
              " 'user_location',\n",
              " 'user_verified',\n",
              " 'user_followers_count',\n",
              " 'user_friends_count',\n",
              " 'user_created_at',\n",
              " 'tweet_language',\n",
              " 'text_',\n",
              " 'favorite_count',\n",
              " 'favorited',\n",
              " 'in_reply_to_screen_name',\n",
              " 'in_reply_to_status_id_str',\n",
              " 'in_reply_to_user_id_str',\n",
              " 'retweet_count',\n",
              " 'retweeted',\n",
              " 'text']"
            ]
          },
          "metadata": {
            "tags": []
          },
          "execution_count": 268
        }
      ]
    },
    {
      "cell_type": "code",
      "metadata": {
        "id": "KmTv2dJTAGgg",
        "colab_type": "code",
        "colab": {
          "base_uri": "https://localhost:8080/",
          "height": 34
        },
        "outputId": "3f6b3f77-fd8c-469d-d531-a8435bcf9a30"
      },
      "source": [
        "## No of rows in the data\n",
        "\n",
        "print(df.count())"
      ],
      "execution_count": 269,
      "outputs": [
        {
          "output_type": "stream",
          "text": [
            "413247\n"
          ],
          "name": "stdout"
        }
      ]
    },
    {
      "cell_type": "code",
      "metadata": {
        "id": "AgPjQqGwq-9a",
        "colab_type": "code",
        "outputId": "080f446a-ba44-4b2c-fc59-d3409f2a1163",
        "colab": {
          "base_uri": "https://localhost:8080/",
          "height": 459
        }
      },
      "source": [
        "## Selecting the 3 columns we require\n",
        "\n",
        "df2 = df.select('tweet_created_at','user_screen_name','user_id_str')\n",
        "df2.show()"
      ],
      "execution_count": 270,
      "outputs": [
        {
          "output_type": "stream",
          "text": [
            "+--------------------+----------------+-----------+\n",
            "|    tweet_created_at|user_screen_name|user_id_str|\n",
            "+--------------------+----------------+-----------+\n",
            "|Tue Nov 01 01:57:...|     SeanEPanjab|  143515471|\n",
            "|Tue Nov 01 02:39:...|      AmazonHelp|   85741735|\n",
            "|Tue Nov 01 17:14:...|     SeanEPanjab|  143515471|\n",
            "|Tue Nov 01 17:15:...|     SeanEPanjab|  143515471|\n",
            "|Tue Nov 01 17:19:...|      AmazonHelp|   85741735|\n",
            "|Tue Nov 01 17:25:...|      AmazonHelp|   85741735|\n",
            "|Tue Nov 01 17:55:...|     SeanEPanjab|  143515471|\n",
            "|Tue Nov 01 17:55:...|     SeanEPanjab|  143515471|\n",
            "|Tue Nov 01 18:02:...|      AmazonHelp|   85741735|\n",
            "|Tue Nov 01 03:51:...|   aakashwangnoo|   71457972|\n",
            "|Tue Nov 01 03:59:...|      AmazonHelp|   85741735|\n",
            "|Tue Nov 01 11:00:...|   aakashwangnoo|   71457972|\n",
            "|Tue Nov 01 12:03:...|      AmazonHelp|   85741735|\n",
            "|Tue Nov 01 12:03:...|      AmazonHelp|   85741735|\n",
            "|Tue Nov 01 14:57:...|   aakashwangnoo|   71457972|\n",
            "|Tue Nov 01 16:38:...|      AmazonHelp|   85741735|\n",
            "|Tue Nov 01 19:27:...|   aakashwangnoo|   71457972|\n",
            "|Tue Nov 01 19:28:...|   aakashwangnoo|   71457972|\n",
            "|Tue Nov 01 19:38:...|   aakashwangnoo|   71457972|\n",
            "|Tue Nov 01 19:40:...|   aakashwangnoo|   71457972|\n",
            "+--------------------+----------------+-----------+\n",
            "only showing top 20 rows\n",
            "\n"
          ],
          "name": "stdout"
        }
      ]
    },
    {
      "cell_type": "code",
      "metadata": {
        "id": "cpfUk_Pss3Zr",
        "colab_type": "code",
        "outputId": "4e571bbd-7c46-4648-9797-867de1cbb156",
        "colab": {
          "base_uri": "https://localhost:8080/",
          "height": 68
        }
      },
      "source": [
        "## Checking the data type of each variable\n",
        "\n",
        "df2.dtypes"
      ],
      "execution_count": 271,
      "outputs": [
        {
          "output_type": "execute_result",
          "data": {
            "text/plain": [
              "[('tweet_created_at', 'string'),\n",
              " ('user_screen_name', 'string'),\n",
              " ('user_id_str', 'string')]"
            ]
          },
          "metadata": {
            "tags": []
          },
          "execution_count": 271
        }
      ]
    },
    {
      "cell_type": "code",
      "metadata": {
        "id": "j380SWtR0AwC",
        "colab_type": "code",
        "outputId": "b4f386c6-e4eb-4102-fa93-cffdd65beb29",
        "colab": {
          "base_uri": "https://localhost:8080/",
          "height": 34
        }
      },
      "source": [
        "type(df2)"
      ],
      "execution_count": 272,
      "outputs": [
        {
          "output_type": "execute_result",
          "data": {
            "text/plain": [
              "pyspark.sql.dataframe.DataFrame"
            ]
          },
          "metadata": {
            "tags": []
          },
          "execution_count": 272
        }
      ]
    },
    {
      "cell_type": "code",
      "metadata": {
        "colab_type": "code",
        "outputId": "03632867-2410-458f-8247-195641436b2d",
        "id": "M79pwD6n9eIg",
        "colab": {
          "base_uri": "https://localhost:8080/",
          "height": 459
        }
      },
      "source": [
        "## Subsetting the tweet Date column to extract only the Day and Month\n",
        "\n",
        "df3 = df2.withColumn('Created_date',df2.tweet_created_at[5:6])\n",
        "df3.show()"
      ],
      "execution_count": 273,
      "outputs": [
        {
          "output_type": "stream",
          "text": [
            "+--------------------+----------------+-----------+------------+\n",
            "|    tweet_created_at|user_screen_name|user_id_str|Created_date|\n",
            "+--------------------+----------------+-----------+------------+\n",
            "|Tue Nov 01 01:57:...|     SeanEPanjab|  143515471|      Nov 01|\n",
            "|Tue Nov 01 02:39:...|      AmazonHelp|   85741735|      Nov 01|\n",
            "|Tue Nov 01 17:14:...|     SeanEPanjab|  143515471|      Nov 01|\n",
            "|Tue Nov 01 17:15:...|     SeanEPanjab|  143515471|      Nov 01|\n",
            "|Tue Nov 01 17:19:...|      AmazonHelp|   85741735|      Nov 01|\n",
            "|Tue Nov 01 17:25:...|      AmazonHelp|   85741735|      Nov 01|\n",
            "|Tue Nov 01 17:55:...|     SeanEPanjab|  143515471|      Nov 01|\n",
            "|Tue Nov 01 17:55:...|     SeanEPanjab|  143515471|      Nov 01|\n",
            "|Tue Nov 01 18:02:...|      AmazonHelp|   85741735|      Nov 01|\n",
            "|Tue Nov 01 03:51:...|   aakashwangnoo|   71457972|      Nov 01|\n",
            "|Tue Nov 01 03:59:...|      AmazonHelp|   85741735|      Nov 01|\n",
            "|Tue Nov 01 11:00:...|   aakashwangnoo|   71457972|      Nov 01|\n",
            "|Tue Nov 01 12:03:...|      AmazonHelp|   85741735|      Nov 01|\n",
            "|Tue Nov 01 12:03:...|      AmazonHelp|   85741735|      Nov 01|\n",
            "|Tue Nov 01 14:57:...|   aakashwangnoo|   71457972|      Nov 01|\n",
            "|Tue Nov 01 16:38:...|      AmazonHelp|   85741735|      Nov 01|\n",
            "|Tue Nov 01 19:27:...|   aakashwangnoo|   71457972|      Nov 01|\n",
            "|Tue Nov 01 19:28:...|   aakashwangnoo|   71457972|      Nov 01|\n",
            "|Tue Nov 01 19:38:...|   aakashwangnoo|   71457972|      Nov 01|\n",
            "|Tue Nov 01 19:40:...|   aakashwangnoo|   71457972|      Nov 01|\n",
            "+--------------------+----------------+-----------+------------+\n",
            "only showing top 20 rows\n",
            "\n"
          ],
          "name": "stdout"
        }
      ]
    },
    {
      "cell_type": "code",
      "metadata": {
        "id": "yPqAmy738pc-",
        "colab_type": "code",
        "outputId": "2021307e-3fbe-492b-e446-f8c0d93f631d",
        "colab": {
          "base_uri": "https://localhost:8080/",
          "height": 85
        }
      },
      "source": [
        "df3.dtypes"
      ],
      "execution_count": 274,
      "outputs": [
        {
          "output_type": "execute_result",
          "data": {
            "text/plain": [
              "[('tweet_created_at', 'string'),\n",
              " ('user_screen_name', 'string'),\n",
              " ('user_id_str', 'string'),\n",
              " ('Created_date', 'string')]"
            ]
          },
          "metadata": {
            "tags": []
          },
          "execution_count": 274
        }
      ]
    },
    {
      "cell_type": "code",
      "metadata": {
        "id": "YF2U49nf-5zV",
        "colab_type": "code",
        "colab": {}
      },
      "source": [
        "## Converting the Date column from String into Datetype\n",
        "\n",
        "from pyspark.sql.types import DateType\n",
        "from pyspark.sql.functions import col, unix_timestamp, to_date\n",
        "\n",
        "df4 = df3.withColumn('Created_date2', \n",
        "                  to_date(unix_timestamp(col('Created_date'), format = 'MMM dd').cast(\"timestamp\")))\n",
        "\n",
        "# df4 = df3.withColumn('Created_date2', df3['Created_date'].cast(DateType()))"
      ],
      "execution_count": 0,
      "outputs": []
    },
    {
      "cell_type": "code",
      "metadata": {
        "id": "iiJghQXt_EWv",
        "colab_type": "code",
        "outputId": "8be12ba9-b5f7-4ff2-cb66-a6450b65a242",
        "colab": {
          "base_uri": "https://localhost:8080/",
          "height": 102
        }
      },
      "source": [
        "df4.dtypes"
      ],
      "execution_count": 276,
      "outputs": [
        {
          "output_type": "execute_result",
          "data": {
            "text/plain": [
              "[('tweet_created_at', 'string'),\n",
              " ('user_screen_name', 'string'),\n",
              " ('user_id_str', 'string'),\n",
              " ('Created_date', 'string'),\n",
              " ('Created_date2', 'date')]"
            ]
          },
          "metadata": {
            "tags": []
          },
          "execution_count": 276
        }
      ]
    },
    {
      "cell_type": "code",
      "metadata": {
        "id": "8EjMteILCIqJ",
        "colab_type": "code",
        "outputId": "27c9563a-9089-42a4-8939-74d3da1d772a",
        "colab": {
          "base_uri": "https://localhost:8080/",
          "height": 459
        }
      },
      "source": [
        "df4.show()"
      ],
      "execution_count": 277,
      "outputs": [
        {
          "output_type": "stream",
          "text": [
            "+--------------------+----------------+-----------+------------+-------------+\n",
            "|    tweet_created_at|user_screen_name|user_id_str|Created_date|Created_date2|\n",
            "+--------------------+----------------+-----------+------------+-------------+\n",
            "|Tue Nov 01 01:57:...|     SeanEPanjab|  143515471|      Nov 01|   1970-11-01|\n",
            "|Tue Nov 01 02:39:...|      AmazonHelp|   85741735|      Nov 01|   1970-11-01|\n",
            "|Tue Nov 01 17:14:...|     SeanEPanjab|  143515471|      Nov 01|   1970-11-01|\n",
            "|Tue Nov 01 17:15:...|     SeanEPanjab|  143515471|      Nov 01|   1970-11-01|\n",
            "|Tue Nov 01 17:19:...|      AmazonHelp|   85741735|      Nov 01|   1970-11-01|\n",
            "|Tue Nov 01 17:25:...|      AmazonHelp|   85741735|      Nov 01|   1970-11-01|\n",
            "|Tue Nov 01 17:55:...|     SeanEPanjab|  143515471|      Nov 01|   1970-11-01|\n",
            "|Tue Nov 01 17:55:...|     SeanEPanjab|  143515471|      Nov 01|   1970-11-01|\n",
            "|Tue Nov 01 18:02:...|      AmazonHelp|   85741735|      Nov 01|   1970-11-01|\n",
            "|Tue Nov 01 03:51:...|   aakashwangnoo|   71457972|      Nov 01|   1970-11-01|\n",
            "|Tue Nov 01 03:59:...|      AmazonHelp|   85741735|      Nov 01|   1970-11-01|\n",
            "|Tue Nov 01 11:00:...|   aakashwangnoo|   71457972|      Nov 01|   1970-11-01|\n",
            "|Tue Nov 01 12:03:...|      AmazonHelp|   85741735|      Nov 01|   1970-11-01|\n",
            "|Tue Nov 01 12:03:...|      AmazonHelp|   85741735|      Nov 01|   1970-11-01|\n",
            "|Tue Nov 01 14:57:...|   aakashwangnoo|   71457972|      Nov 01|   1970-11-01|\n",
            "|Tue Nov 01 16:38:...|      AmazonHelp|   85741735|      Nov 01|   1970-11-01|\n",
            "|Tue Nov 01 19:27:...|   aakashwangnoo|   71457972|      Nov 01|   1970-11-01|\n",
            "|Tue Nov 01 19:28:...|   aakashwangnoo|   71457972|      Nov 01|   1970-11-01|\n",
            "|Tue Nov 01 19:38:...|   aakashwangnoo|   71457972|      Nov 01|   1970-11-01|\n",
            "|Tue Nov 01 19:40:...|   aakashwangnoo|   71457972|      Nov 01|   1970-11-01|\n",
            "+--------------------+----------------+-----------+------------+-------------+\n",
            "only showing top 20 rows\n",
            "\n"
          ],
          "name": "stdout"
        }
      ]
    },
    {
      "cell_type": "code",
      "metadata": {
        "id": "1sR8R2ZGkPyj",
        "colab_type": "code",
        "colab": {}
      },
      "source": [
        "# Task 1"
      ],
      "execution_count": 0,
      "outputs": []
    },
    {
      "cell_type": "code",
      "metadata": {
        "id": "6t9T6o1T7Wqu",
        "colab_type": "code",
        "outputId": "59695e82-457b-4e08-fbf5-73fb0e4eba2e",
        "colab": {
          "base_uri": "https://localhost:8080/",
          "height": 204
        }
      },
      "source": [
        "## Counting the number of distinct dates for each User\n",
        "\n",
        "from pyspark.sql import functions as func\n",
        "\n",
        "df5 = df4.groupby('user_id_str').agg(func.countDistinct('Created_date2').alias(\"daycount\"))\n",
        "df6 = df5.orderBy(df5[1].desc())\n",
        "df6.show(5)"
      ],
      "execution_count": 279,
      "outputs": [
        {
          "output_type": "stream",
          "text": [
            "+-----------+--------+\n",
            "|user_id_str|daycount|\n",
            "+-----------+--------+\n",
            "|   85741735|     279|\n",
            "|   54704557|      27|\n",
            "|   15413409|      19|\n",
            "|  441572163|      16|\n",
            "|  362763757|      16|\n",
            "+-----------+--------+\n",
            "only showing top 5 rows\n",
            "\n"
          ],
          "name": "stdout"
        }
      ]
    },
    {
      "cell_type": "code",
      "metadata": {
        "id": "FDLM6s61IcfQ",
        "colab_type": "code",
        "outputId": "cf438525-c925-4ec0-ecfa-cd19ee7fee82",
        "colab": {
          "base_uri": "https://localhost:8080/",
          "height": 34
        }
      },
      "source": [
        "print(df6.count())"
      ],
      "execution_count": 280,
      "outputs": [
        {
          "output_type": "stream",
          "text": [
            "74134\n"
          ],
          "name": "stdout"
        }
      ]
    },
    {
      "cell_type": "code",
      "metadata": {
        "id": "IxPoUvJdMc7B",
        "colab_type": "code",
        "outputId": "7e6a7218-81e8-4f9d-e2fc-61690250d9b1",
        "colab": {
          "base_uri": "https://localhost:8080/",
          "height": 34
        }
      },
      "source": [
        "print(df6.select('user_id_str').distinct().count())"
      ],
      "execution_count": 281,
      "outputs": [
        {
          "output_type": "stream",
          "text": [
            "74134\n"
          ],
          "name": "stdout"
        }
      ]
    },
    {
      "cell_type": "code",
      "metadata": {
        "id": "umLhBN80Kry9",
        "colab_type": "code",
        "outputId": "4a9a2850-fe92-4045-87a4-7cd9463940fa",
        "colab": {
          "base_uri": "https://localhost:8080/",
          "height": 34
        }
      },
      "source": [
        "## Subsetting for those Users that have tweeted for atleast 5 days\n",
        "\n",
        "df7 = df6.filter(df6.daycount > 4)\n",
        "print(df7.count())"
      ],
      "execution_count": 282,
      "outputs": [
        {
          "output_type": "stream",
          "text": [
            "593\n"
          ],
          "name": "stdout"
        }
      ]
    },
    {
      "cell_type": "code",
      "metadata": {
        "id": "key3-1hgLk3H",
        "colab_type": "code",
        "outputId": "8b168b0b-8225-4fca-bb42-77e959761bb3",
        "colab": {
          "base_uri": "https://localhost:8080/",
          "height": 204
        }
      },
      "source": [
        "df7.show(5)"
      ],
      "execution_count": 283,
      "outputs": [
        {
          "output_type": "stream",
          "text": [
            "+-----------+--------+\n",
            "|user_id_str|daycount|\n",
            "+-----------+--------+\n",
            "|   85741735|     279|\n",
            "|   54704557|      27|\n",
            "|   15413409|      19|\n",
            "|  441572163|      16|\n",
            "|  133804026|      16|\n",
            "+-----------+--------+\n",
            "only showing top 5 rows\n",
            "\n"
          ],
          "name": "stdout"
        }
      ]
    },
    {
      "cell_type": "code",
      "metadata": {
        "id": "X1OoO5aWNr7b",
        "colab_type": "code",
        "outputId": "ddadbfbb-810b-4c54-c2ad-a71126fe770e",
        "colab": {
          "base_uri": "https://localhost:8080/",
          "height": 459
        }
      },
      "source": [
        "## Creating the Daily Active Users Dataframe\n",
        "\n",
        "daily_active_users = df7.join(df2, on=['user_id_str'], how='inner').select('user_screen_name','user_id_str').distinct()\n",
        "daily_active_users.show()"
      ],
      "execution_count": 284,
      "outputs": [
        {
          "output_type": "stream",
          "text": [
            "+----------------+------------------+\n",
            "|user_screen_name|       user_id_str|\n",
            "+----------------+------------------+\n",
            "|   Gentlemen_Sam|         441572163|\n",
            "|       SkullyRox|          20391647|\n",
            "|  sky_regenrated|         483059773|\n",
            "|  whisperandmoan|         113516042|\n",
            "|          MtnrMS|        3309102108|\n",
            "|        remakoul|814372928695521280|\n",
            "| roxyunderwood93|         295334669|\n",
            "|        TCMuffin|          35591749|\n",
            "|  ChaurasiaRohin|706032993794527232|\n",
            "|     ssagardutta|        2991490598|\n",
            "|        trallyus|          11702402|\n",
            "|       basusagar|          42205044|\n",
            "|      Whitjoseph|         148495262|\n",
            "| Savvyy_Investor|758744557315993600|\n",
            "|  tarunwadhwa198|         130872938|\n",
            "|   Shadowslightz|        1282432266|\n",
            "|         i_opner|        4189195819|\n",
            "|   LadySlaughter|          15195593|\n",
            "|    brian_riback|         424400406|\n",
            "|          fadari|          25689668|\n",
            "+----------------+------------------+\n",
            "only showing top 20 rows\n",
            "\n"
          ],
          "name": "stdout"
        }
      ]
    },
    {
      "cell_type": "code",
      "metadata": {
        "id": "s0J63wAMOuc0",
        "colab_type": "code",
        "outputId": "32b905a0-7772-4d1b-e10c-db5c9c9baac4",
        "colab": {
          "base_uri": "https://localhost:8080/",
          "height": 34
        }
      },
      "source": [
        "## No of unique Daily Users\n",
        "\n",
        "print(daily_active_users.count())"
      ],
      "execution_count": 285,
      "outputs": [
        {
          "output_type": "stream",
          "text": [
            "593\n"
          ],
          "name": "stdout"
        }
      ]
    },
    {
      "cell_type": "code",
      "metadata": {
        "id": "7cNB75NfR3Z-",
        "colab_type": "code",
        "colab": {}
      },
      "source": [
        "## Task 2"
      ],
      "execution_count": 0,
      "outputs": []
    },
    {
      "cell_type": "code",
      "metadata": {
        "id": "xYlmU_i8W0Na",
        "colab_type": "code",
        "colab": {}
      },
      "source": [
        "## Reading the experiment text file\n",
        "\n",
        "text2 = spark.read.text(\"/content/drive/My Drive/Colab_Datasets/experiment.txt\")"
      ],
      "execution_count": 0,
      "outputs": []
    },
    {
      "cell_type": "code",
      "metadata": {
        "id": "XC9s4O3kXYel",
        "colab_type": "code",
        "colab": {
          "base_uri": "https://localhost:8080/",
          "height": 170
        },
        "outputId": "8409fd3a-3ac7-4e06-f195-a9b6d4b1c0d8"
      },
      "source": [
        "text2.show(3)"
      ],
      "execution_count": 288,
      "outputs": [
        {
          "output_type": "stream",
          "text": [
            "+---------+\n",
            "|    value|\n",
            "+---------+\n",
            "|143515471|\n",
            "| 85741735|\n",
            "| 71457972|\n",
            "+---------+\n",
            "only showing top 3 rows\n",
            "\n"
          ],
          "name": "stdout"
        }
      ]
    },
    {
      "cell_type": "code",
      "metadata": {
        "id": "3dhAAkBeXZqC",
        "colab_type": "code",
        "colab": {
          "base_uri": "https://localhost:8080/",
          "height": 34
        },
        "outputId": "81904b0d-dcd3-4d6e-ff46-a98327cbffc5"
      },
      "source": [
        "## Checking the number of IDs in the file\n",
        "\n",
        "print(text2.select('value').distinct().count())"
      ],
      "execution_count": 289,
      "outputs": [
        {
          "output_type": "stream",
          "text": [
            "5000\n"
          ],
          "name": "stdout"
        }
      ]
    },
    {
      "cell_type": "code",
      "metadata": {
        "id": "t-GMGNVrZBSf",
        "colab_type": "code",
        "colab": {
          "base_uri": "https://localhost:8080/",
          "height": 34
        },
        "outputId": "61511c08-b8b0-4476-8f35-68d1f66e10e3"
      },
      "source": [
        "print(text2.count())"
      ],
      "execution_count": 290,
      "outputs": [
        {
          "output_type": "stream",
          "text": [
            "5000\n"
          ],
          "name": "stdout"
        }
      ]
    },
    {
      "cell_type": "code",
      "metadata": {
        "id": "wrCl0wEtZIF4",
        "colab_type": "code",
        "colab": {
          "base_uri": "https://localhost:8080/",
          "height": 459
        },
        "outputId": "893682fe-6be6-4090-e7b9-6b7b1566ad5b"
      },
      "source": [
        "## Combining the Daily Users data and Experiment data\n",
        "\n",
        "active_users = text2.join(daily_active_users, text2.value == daily_active_users.user_id_str,how='left')\n",
        "active_users.show()"
      ],
      "execution_count": 291,
      "outputs": [
        {
          "output_type": "stream",
          "text": [
            "+----------+----------------+-----------+\n",
            "|     value|user_screen_name|user_id_str|\n",
            "+----------+----------------+-----------+\n",
            "| 106799492|            null|       null|\n",
            "|2610379644|            null|       null|\n",
            "|  62364020|            null|       null|\n",
            "| 123138418|            null|       null|\n",
            "|2908108256|            null|       null|\n",
            "| 143515471|            null|       null|\n",
            "|  97424433|            null|       null|\n",
            "|2706101936|            null|       null|\n",
            "|1510968974|            null|       null|\n",
            "| 110354554| praveen_pandey_|  110354554|\n",
            "|2502172122|            null|       null|\n",
            "| 243716471|            null|       null|\n",
            "|  59156981|            null|       null|\n",
            "|  71457972|            null|       null|\n",
            "| 257376764|            null|       null|\n",
            "|   5654472|            null|       null|\n",
            "|  85741735|      AmazonHelp|   85741735|\n",
            "| 370711133|            null|       null|\n",
            "| 145579921|            null|       null|\n",
            "| 902137872|     mybharatraj|  902137872|\n",
            "+----------+----------------+-----------+\n",
            "only showing top 20 rows\n",
            "\n"
          ],
          "name": "stdout"
        }
      ]
    },
    {
      "cell_type": "code",
      "metadata": {
        "id": "W3m2R6JLw1Sz",
        "colab_type": "code",
        "colab": {}
      },
      "source": [
        "from pyspark.sql.types import *\n",
        "from pyspark.sql.functions import *\n"
      ],
      "execution_count": 0,
      "outputs": []
    },
    {
      "cell_type": "code",
      "metadata": {
        "id": "9x7F7lakxm2l",
        "colab_type": "code",
        "colab": {
          "base_uri": "https://localhost:8080/",
          "height": 204
        },
        "outputId": "7ac84b98-0833-4ba2-83ba-dc7f08d90bf7"
      },
      "source": [
        "active_users.show(5)"
      ],
      "execution_count": 293,
      "outputs": [
        {
          "output_type": "stream",
          "text": [
            "+----------+----------------+-----------+\n",
            "|     value|user_screen_name|user_id_str|\n",
            "+----------+----------------+-----------+\n",
            "| 106799492|            null|       null|\n",
            "|2908108256|            null|       null|\n",
            "| 143515471|            null|       null|\n",
            "|  59156981|            null|       null|\n",
            "|  71457972|            null|       null|\n",
            "+----------+----------------+-----------+\n",
            "only showing top 5 rows\n",
            "\n"
          ],
          "name": "stdout"
        }
      ]
    },
    {
      "cell_type": "code",
      "metadata": {
        "id": "cql6Ucm7xvPi",
        "colab_type": "code",
        "colab": {
          "base_uri": "https://localhost:8080/",
          "height": 34
        },
        "outputId": "86723ee1-da7d-4092-9cf5-fba387d0acfc"
      },
      "source": [
        "active_users.columns"
      ],
      "execution_count": 294,
      "outputs": [
        {
          "output_type": "execute_result",
          "data": {
            "text/plain": [
              "['value', 'user_screen_name', 'user_id_str']"
            ]
          },
          "metadata": {
            "tags": []
          },
          "execution_count": 294
        }
      ]
    },
    {
      "cell_type": "code",
      "metadata": {
        "id": "eZyPlALqaW2f",
        "colab_type": "code",
        "colab": {}
      },
      "source": [
        "## Creating the Experiment User Dataframe\n",
        "\n",
        "experiment_user = active_users.withColumn('Whether_active' ,when(col(\"user_screen_name\").isNull(), \"NO\").otherwise(\"YES\")).select('value','Whether_active')"
      ],
      "execution_count": 0,
      "outputs": []
    },
    {
      "cell_type": "code",
      "metadata": {
        "id": "qeuHErCPxlq7",
        "colab_type": "code",
        "colab": {
          "base_uri": "https://localhost:8080/",
          "height": 204
        },
        "outputId": "08dd760a-1cd9-455e-f29c-8c7a739cead3"
      },
      "source": [
        "experiment_user.show(5)"
      ],
      "execution_count": 296,
      "outputs": [
        {
          "output_type": "stream",
          "text": [
            "+----------+--------------+\n",
            "|     value|Whether_active|\n",
            "+----------+--------------+\n",
            "|  11798342|            NO|\n",
            "|1210875679|            NO|\n",
            "| 128257538|            NO|\n",
            "| 137088213|            NO|\n",
            "| 142202059|            NO|\n",
            "+----------+--------------+\n",
            "only showing top 5 rows\n",
            "\n"
          ],
          "name": "stdout"
        }
      ]
    },
    {
      "cell_type": "code",
      "metadata": {
        "id": "-MIZi5wxvAV3",
        "colab_type": "code",
        "colab": {
          "base_uri": "https://localhost:8080/",
          "height": 136
        },
        "outputId": "e951abe4-5463-4ad8-b03a-8cced63378e8"
      },
      "source": [
        "## Getting the counts of the Whether Active Variable\n",
        "\n",
        "active_counts = experiment_user.groupBy('Whether_active').count().withColumnRenamed(\"count\", \"active_cnt\")\n",
        "active_counts.show()"
      ],
      "execution_count": 297,
      "outputs": [
        {
          "output_type": "stream",
          "text": [
            "+--------------+----------+\n",
            "|Whether_active|active_cnt|\n",
            "+--------------+----------+\n",
            "|           YES|       121|\n",
            "|            NO|      4879|\n",
            "+--------------+----------+\n",
            "\n"
          ],
          "name": "stdout"
        }
      ]
    },
    {
      "cell_type": "code",
      "metadata": {
        "id": "q7sNhrvD1MSu",
        "colab_type": "code",
        "colab": {
          "base_uri": "https://localhost:8080/",
          "height": 136
        },
        "outputId": "11b99009-5b84-4f1d-8cd2-b8b7e0cd9e97"
      },
      "source": [
        "## Getting the percentage of the counts\n",
        "\n",
        "total_count = experiment_user.count()\n",
        "\n",
        "percent_output = active_counts.withColumn('percentage', active_counts.active_cnt/float(total_count))\n",
        "percent_output.show()"
      ],
      "execution_count": 298,
      "outputs": [
        {
          "output_type": "stream",
          "text": [
            "+--------------+----------+----------+\n",
            "|Whether_active|active_cnt|percentage|\n",
            "+--------------+----------+----------+\n",
            "|           YES|       121|    0.0242|\n",
            "|            NO|      4879|    0.9758|\n",
            "+--------------+----------+----------+\n",
            "\n"
          ],
          "name": "stdout"
        }
      ]
    },
    {
      "cell_type": "code",
      "metadata": {
        "id": "33H6OmAF3EwQ",
        "colab_type": "code",
        "colab": {}
      },
      "source": [
        "## Task 3"
      ],
      "execution_count": 0,
      "outputs": []
    },
    {
      "cell_type": "code",
      "metadata": {
        "id": "f90LszFO8RcA",
        "colab_type": "code",
        "colab": {
          "base_uri": "https://localhost:8080/",
          "height": 153
        },
        "outputId": "e7f64725-bcfb-439a-f492-05def2fdb86f"
      },
      "source": [
        "daily_active_users.show(2)"
      ],
      "execution_count": 300,
      "outputs": [
        {
          "output_type": "stream",
          "text": [
            "+----------------+-----------+\n",
            "|user_screen_name|user_id_str|\n",
            "+----------------+-----------+\n",
            "|   Gentlemen_Sam|  441572163|\n",
            "|       SkullyRox|   20391647|\n",
            "+----------------+-----------+\n",
            "only showing top 2 rows\n",
            "\n"
          ],
          "name": "stdout"
        }
      ]
    },
    {
      "cell_type": "code",
      "metadata": {
        "id": "EGCRJfoH8ayz",
        "colab_type": "code",
        "colab": {
          "base_uri": "https://localhost:8080/",
          "height": 153
        },
        "outputId": "950eaf75-827d-425b-f946-4ac3a4035f5e"
      },
      "source": [
        "experiment_user.show(2)"
      ],
      "execution_count": 301,
      "outputs": [
        {
          "output_type": "stream",
          "text": [
            "+----------+--------------+\n",
            "|     value|Whether_active|\n",
            "+----------+--------------+\n",
            "|  11798342|            NO|\n",
            "|1210875679|            NO|\n",
            "+----------+--------------+\n",
            "only showing top 2 rows\n",
            "\n"
          ],
          "name": "stdout"
        }
      ]
    },
    {
      "cell_type": "code",
      "metadata": {
        "id": "89SiytXL5lvp",
        "colab_type": "code",
        "colab": {
          "base_uri": "https://localhost:8080/",
          "height": 459
        },
        "outputId": "c8b11260-2e0c-4366-9f37-3fbad6e31792"
      },
      "source": [
        "## Joining the Users of Daily Active and Experiment\n",
        "\n",
        "Cross_users = experiment_user.join(daily_active_users, experiment_user.value == daily_active_users.user_id_str,how='outer')\n",
        "Cross_users.show()\n"
      ],
      "execution_count": 302,
      "outputs": [
        {
          "output_type": "stream",
          "text": [
            "+----------+--------------+----------------+-----------+\n",
            "|     value|Whether_active|user_screen_name|user_id_str|\n",
            "+----------+--------------+----------------+-----------+\n",
            "|  11798342|            NO|            null|       null|\n",
            "|1210875679|            NO|            null|       null|\n",
            "| 128257538|            NO|            null|       null|\n",
            "| 137088213|            NO|            null|       null|\n",
            "| 142202059|            NO|            null|       null|\n",
            "|  14291504|            NO|            null|       null|\n",
            "|  16279527|            NO|            null|       null|\n",
            "| 163148814|            NO|            null|       null|\n",
            "|      null|          null|        JoeMedal|   19191538|\n",
            "|  20110100|            NO|            null|       null|\n",
            "| 211972025|            NO|            null|       null|\n",
            "|2176836186|            NO|            null|       null|\n",
            "| 234641258|            NO|            null|       null|\n",
            "|2372082613|            NO|            null|       null|\n",
            "|  26915435|            NO|            null|       null|\n",
            "|  27840175|            NO|            null|       null|\n",
            "| 301131509|            NO|            null|       null|\n",
            "|3028486809|            NO|            null|       null|\n",
            "| 305743837|            NO|            null|       null|\n",
            "|3196213653|            NO|            null|       null|\n",
            "+----------+--------------+----------------+-----------+\n",
            "only showing top 20 rows\n",
            "\n"
          ],
          "name": "stdout"
        }
      ]
    },
    {
      "cell_type": "code",
      "metadata": {
        "id": "BAVSCrjV8wCz",
        "colab_type": "code",
        "colab": {
          "base_uri": "https://localhost:8080/",
          "height": 459
        },
        "outputId": "42c3d1ad-dc87-4870-8d48-83057f6a5f3f"
      },
      "source": [
        "## Creating a dummy variable to check which Users are in the Daily Active as well as Experiment Data\n",
        "\n",
        "Cross_users = Cross_users.withColumn('Experiment_user' ,when(col(\"Whether_active\").isNull(), 0).otherwise(1))\n",
        "Cross_users = Cross_users.withColumn('Daily_user' ,when(col(\"user_id_str\").isNull(), 0).otherwise(1))\n",
        "Cross_users = Cross_users.withColumn('Daily_and_Experiment_user' ,when((col(\"Experiment_user\")==1) & (col(\"Daily_user\")==1), 1).otherwise(0))\n",
        "Cross_users = Cross_users.withColumn('New_ID' ,when(col(\"value\").isNull(), col(\"user_id_str\")).otherwise(col(\"value\")))\n",
        "\n",
        "Cross_users.show()"
      ],
      "execution_count": 303,
      "outputs": [
        {
          "output_type": "stream",
          "text": [
            "+----------+--------------+----------------+-----------+---------------+----------+-------------------------+----------+\n",
            "|     value|Whether_active|user_screen_name|user_id_str|Experiment_user|Daily_user|Daily_and_Experiment_user|    New_ID|\n",
            "+----------+--------------+----------------+-----------+---------------+----------+-------------------------+----------+\n",
            "|  11798342|            NO|            null|       null|              1|         0|                        0|  11798342|\n",
            "|1210875679|            NO|            null|       null|              1|         0|                        0|1210875679|\n",
            "| 128257538|            NO|            null|       null|              1|         0|                        0| 128257538|\n",
            "| 137088213|            NO|            null|       null|              1|         0|                        0| 137088213|\n",
            "| 142202059|            NO|            null|       null|              1|         0|                        0| 142202059|\n",
            "|  14291504|            NO|            null|       null|              1|         0|                        0|  14291504|\n",
            "|  16279527|            NO|            null|       null|              1|         0|                        0|  16279527|\n",
            "| 163148814|            NO|            null|       null|              1|         0|                        0| 163148814|\n",
            "|      null|          null|        JoeMedal|   19191538|              0|         1|                        0|  19191538|\n",
            "|  20110100|            NO|            null|       null|              1|         0|                        0|  20110100|\n",
            "| 211972025|            NO|            null|       null|              1|         0|                        0| 211972025|\n",
            "|2176836186|            NO|            null|       null|              1|         0|                        0|2176836186|\n",
            "| 234641258|            NO|            null|       null|              1|         0|                        0| 234641258|\n",
            "|2372082613|            NO|            null|       null|              1|         0|                        0|2372082613|\n",
            "|  26915435|            NO|            null|       null|              1|         0|                        0|  26915435|\n",
            "|  27840175|            NO|            null|       null|              1|         0|                        0|  27840175|\n",
            "| 301131509|            NO|            null|       null|              1|         0|                        0| 301131509|\n",
            "|3028486809|            NO|            null|       null|              1|         0|                        0|3028486809|\n",
            "| 305743837|            NO|            null|       null|              1|         0|                        0| 305743837|\n",
            "|3196213653|            NO|            null|       null|              1|         0|                        0|3196213653|\n",
            "+----------+--------------+----------------+-----------+---------------+----------+-------------------------+----------+\n",
            "only showing top 20 rows\n",
            "\n"
          ],
          "name": "stdout"
        }
      ]
    },
    {
      "cell_type": "code",
      "metadata": {
        "id": "9vrnNU7F-BpK",
        "colab_type": "code",
        "colab": {
          "base_uri": "https://localhost:8080/",
          "height": 34
        },
        "outputId": "35f53960-1804-4742-af51-76d42040d528"
      },
      "source": [
        "print(Cross_users.count())"
      ],
      "execution_count": 304,
      "outputs": [
        {
          "output_type": "stream",
          "text": [
            "5472\n"
          ],
          "name": "stdout"
        }
      ]
    },
    {
      "cell_type": "code",
      "metadata": {
        "id": "3PPsZp22ANyr",
        "colab_type": "code",
        "colab": {
          "base_uri": "https://localhost:8080/",
          "height": 136
        },
        "outputId": "ec2ab4f1-716b-4dd2-b08c-5a272bd20b2f"
      },
      "source": [
        "Cross_users.groupBy('Daily_and_Experiment_user').count().show()"
      ],
      "execution_count": 305,
      "outputs": [
        {
          "output_type": "stream",
          "text": [
            "+-------------------------+-----+\n",
            "|Daily_and_Experiment_user|count|\n",
            "+-------------------------+-----+\n",
            "|                        1|  121|\n",
            "|                        0| 5351|\n",
            "+-------------------------+-----+\n",
            "\n"
          ],
          "name": "stdout"
        }
      ]
    },
    {
      "cell_type": "code",
      "metadata": {
        "id": "f38Wx1S6EXcH",
        "colab_type": "code",
        "colab": {
          "base_uri": "https://localhost:8080/",
          "height": 34
        },
        "outputId": "f6dff366-9144-4e36-bf9c-68c185f751d6"
      },
      "source": [
        "## Subsetting only those User IDs which satisfy both criteria\n",
        "\n",
        "Both_users = Cross_users.filter(Cross_users.Daily_and_Experiment_user ==1).select('New_ID')\n",
        "Both_users.count()"
      ],
      "execution_count": 306,
      "outputs": [
        {
          "output_type": "execute_result",
          "data": {
            "text/plain": [
              "121"
            ]
          },
          "metadata": {
            "tags": []
          },
          "execution_count": 306
        }
      ]
    },
    {
      "cell_type": "code",
      "metadata": {
        "id": "aX4pHfOSE6HT",
        "colab_type": "code",
        "colab": {
          "base_uri": "https://localhost:8080/",
          "height": 204
        },
        "outputId": "3be62d25-6b7e-4920-d8f2-a3d3644139b3"
      },
      "source": [
        "Both_users.show(5)"
      ],
      "execution_count": 307,
      "outputs": [
        {
          "output_type": "stream",
          "text": [
            "+----------+\n",
            "|    New_ID|\n",
            "+----------+\n",
            "|  18435372|\n",
            "|1387267123|\n",
            "| 267381861|\n",
            "| 885336408|\n",
            "| 213060183|\n",
            "+----------+\n",
            "only showing top 5 rows\n",
            "\n"
          ],
          "name": "stdout"
        }
      ]
    },
    {
      "cell_type": "code",
      "metadata": {
        "id": "b_HADGfCGCO4",
        "colab_type": "code",
        "colab": {
          "base_uri": "https://localhost:8080/",
          "height": 224
        },
        "outputId": "6bd3ab01-fd71-4dcc-a711-4bec6ee133b4"
      },
      "source": [
        "df.show(5)"
      ],
      "execution_count": 308,
      "outputs": [
        {
          "output_type": "stream",
          "text": [
            "+--------------------+--------------------+----------------+-----------+-------------------+---------------------+--------------+-----------------+--------------+--------------------+-------------+-------------+--------------------+------------------+--------------------+--------------+--------------------+--------------+---------+-----------------------+-------------------------+-----------------------+-------------+---------+--------------------+\n",
            "|              id_str|    tweet_created_at|user_screen_name|user_id_str|user_statuses_count|user_favourites_count|user_protected|user_listed_count|user_following|    user_description|user_location|user_verified|user_followers_count|user_friends_count|     user_created_at|tweet_language|               text_|favorite_count|favorited|in_reply_to_screen_name|in_reply_to_status_id_str|in_reply_to_user_id_str|retweet_count|retweeted|                text|\n",
            "+--------------------+--------------------+----------------+-----------+-------------------+---------------------+--------------+-----------------+--------------+--------------------+-------------+-------------+--------------------+------------------+--------------------+--------------+--------------------+--------------+---------+-----------------------+-------------------------+-----------------------+-------------+---------+--------------------+\n",
            "|'793270689780203520'|Tue Nov 01 01:57:...|     SeanEPanjab|  143515471|              51287|                 4079|         False|               74|         False|Content marketer;...|   غریب الوطن|        False|                1503|               850|Thu May 13 17:43:...|            en|@AmazonHelp Can y...|             0|    False|             AmazonHelp|                     null|               85741735|            0|    False|                null|\n",
            "|'793281386912354304'|Tue Nov 01 02:39:...|      AmazonHelp|   85741735|            2225450|                11366|         False|              796|         False|We answer Amazon ...|         null|         True|              149569|                53|Wed Oct 28 04:17:...|            en|@SeanEPanjab I'm ...|             0|    False|            SeanEPanjab|     7.932706897802035...|              143515471|            0|    False|                null|\n",
            "|'793501578766319616'|Tue Nov 01 17:14:...|     SeanEPanjab|  143515471|              51287|                 4079|         False|               74|         False|Content marketer;...|   غریب الوطن|        False|                1503|               850|Thu May 13 17:43:...|            en|@AmazonHelp It wa...|             0|    False|             AmazonHelp|     7.932813869123543...|               85741735|            0|    False|@AmazonHelp It wa...|\n",
            "|'793501657346682880'|Tue Nov 01 17:15:...|     SeanEPanjab|  143515471|              51287|                 4079|         False|               74|         False|Content marketer;...|   غریب الوطن|        False|                1503|               850|Thu May 13 17:43:...|            en|@AmazonHelp I am ...|             0|    False|             AmazonHelp|     7.932813869123543...|               85741735|            0|    False|                null|\n",
            "|'793502854459879424'|Tue Nov 01 17:19:...|      AmazonHelp|   85741735|            2225450|                11366|         False|              796|         False|We answer Amazon ...|         null|         True|              149569|                53|Wed Oct 28 04:17:...|            en|@SeanEPanjab Plea...|             0|    False|            SeanEPanjab|     7.935015787663196...|              143515471|            0|    False|@SeanEPanjab Plea...|\n",
            "+--------------------+--------------------+----------------+-----------+-------------------+---------------------+--------------+-----------------+--------------+--------------------+-------------+-------------+--------------------+------------------+--------------------+--------------+--------------------+--------------+---------+-----------------------+-------------------------+-----------------------+-------------+---------+--------------------+\n",
            "only showing top 5 rows\n",
            "\n"
          ],
          "name": "stdout"
        }
      ]
    },
    {
      "cell_type": "code",
      "metadata": {
        "id": "VF1WLk7KFOuJ",
        "colab_type": "code",
        "colab": {
          "base_uri": "https://localhost:8080/",
          "height": 34
        },
        "outputId": "79dfc129-6050-4af8-d330-11494f09d9f9"
      },
      "source": [
        "## Combining the new set of users with the Original Amazon File\n",
        "\n",
        "New_users = Both_users.join(df, Both_users.New_ID == df.user_id_str,how='left').drop('New_ID')\n",
        "New_users.count()\n"
      ],
      "execution_count": 309,
      "outputs": [
        {
          "output_type": "execute_result",
          "data": {
            "text/plain": [
              "172767"
            ]
          },
          "metadata": {
            "tags": []
          },
          "execution_count": 309
        }
      ]
    },
    {
      "cell_type": "code",
      "metadata": {
        "id": "LGOLSpx3GNZ3",
        "colab_type": "code",
        "colab": {
          "base_uri": "https://localhost:8080/",
          "height": 34
        },
        "outputId": "ade89f6b-098f-4754-d35d-2ea3c6262e5e"
      },
      "source": [
        "df.count()"
      ],
      "execution_count": 310,
      "outputs": [
        {
          "output_type": "execute_result",
          "data": {
            "text/plain": [
              "413247"
            ]
          },
          "metadata": {
            "tags": []
          },
          "execution_count": 310
        }
      ]
    },
    {
      "cell_type": "code",
      "metadata": {
        "id": "TQjXL5pSH_yL",
        "colab_type": "code",
        "colab": {}
      },
      "source": [
        "## Exporting the file to a csv\n",
        "\n",
        "New_users.toPandas().to_csv('/content/drive/My Drive/Colab_Datasets/Amazon_New.csv')"
      ],
      "execution_count": 0,
      "outputs": []
    },
    {
      "cell_type": "code",
      "metadata": {
        "id": "vZsrExPfHgjZ",
        "colab_type": "code",
        "colab": {}
      },
      "source": [
        ""
      ],
      "execution_count": 0,
      "outputs": []
    }
  ]
}